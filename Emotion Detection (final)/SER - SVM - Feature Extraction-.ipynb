{
 "cells": [
  {
   "cell_type": "markdown",
   "metadata": {},
   "source": [
    "# Speech Emotion Recognition - Feature Extraction\n",
    "\n",
    "Databases used\n",
    "\n",
    "* The Ryerson Audio-Visual Database of Emotional Speech and Song (RAVDESS)\n",
    "* Toronto emotional speech set (TESS)"
   ]
  },
  {
   "cell_type": "markdown",
   "metadata": {},
   "source": [
    "### Import Libraries\n",
    "\n",
    "Import necessary libraries"
   ]
  },
  {
   "cell_type": "code",
   "execution_count": 3,
   "metadata": {
    "colab": {},
    "colab_type": "code",
    "id": "4Psuv3UPLaPR"
   },
   "outputs": [],
   "source": [
    "import glob\n",
    "import os\n",
    "import librosa\n",
    "import time\n",
    "import numpy as np\n",
    "import pandas as pd\n",
    "import resampy"
   ]
  },
  {
   "cell_type": "code",
   "execution_count": 4,
   "metadata": {},
   "outputs": [
    {
     "name": "stdout",
     "output_type": "stream",
     "text": [
      "Requirement already satisfied: resampy in c:\\users\\viber.desktop-7dnsugi\\appdata\\local\\programs\\python\\python312\\lib\\site-packages (0.4.3)\n",
      "Requirement already satisfied: numpy>=1.17 in c:\\users\\viber.desktop-7dnsugi\\appdata\\local\\programs\\python\\python312\\lib\\site-packages (from resampy) (2.1.3)\n",
      "Requirement already satisfied: numba>=0.53 in c:\\users\\viber.desktop-7dnsugi\\appdata\\local\\programs\\python\\python312\\lib\\site-packages (from resampy) (0.61.2)\n",
      "Requirement already satisfied: llvmlite<0.45,>=0.44.0dev0 in c:\\users\\viber.desktop-7dnsugi\\appdata\\local\\programs\\python\\python312\\lib\\site-packages (from numba>=0.53->resampy) (0.44.0)\n"
     ]
    },
    {
     "name": "stderr",
     "output_type": "stream",
     "text": [
      "\n",
      "[notice] A new release of pip is available: 25.1 -> 25.1.1\n",
      "[notice] To update, run: python.exe -m pip install --upgrade pip\n"
     ]
    }
   ],
   "source": [
    "import sys\n",
    "!{sys.executable} -m pip install resampy\n"
   ]
  },
  {
   "cell_type": "markdown",
   "metadata": {
    "colab_type": "text",
    "id": "rBpIgx9bkdgJ"
   },
   "source": [
    "### Load all files\n",
    "\n",
    "We will create our numpy array extracting Mel-frequency cepstral coefficients (MFCCs) while the classes to predict will be extracted from the name of the file."
   ]
  },
  {
   "cell_type": "markdown",
   "metadata": {},
   "source": [
    "#### Defining emotions to classify \n",
    "\n",
    "Selecting the emotions to be classified. Note that the emotions 'neutral', 'calm' and 'surprised' are only found in RAVDESS dataset and 'pleasantly surprised' or 'ps' is only available in TESS dataset. To combine all the emotions from both datasets into 8 emotion classes, we have changed 'pleasantly surprised' to 'surprised' and 'fearful' to 'fear'"
   ]
  },
  {
   "cell_type": "code",
   "execution_count": 5,
   "metadata": {
    "colab": {},
    "colab_type": "code",
    "id": "s16XwP5LK8a3"
   },
   "outputs": [],
   "source": [
    "emotions={\n",
    "  '01':'neutral',\n",
    "  '02':'calm',\n",
    "  '03':'happy',\n",
    "  '04':'sad',\n",
    "  '05':'angry',\n",
    "  '06':'fear',\n",
    "  '07':'disgust',\n",
    "  '08':'surprised'\n",
    "}\n",
    "\n",
    "#defined tess emotions to test on TESS dataset only\n",
    "tess_emotions=['angry','disgust','fear','ps','happy','sad']\n",
    "\n",
    "##defined RAVDESS emotions to test on RAVDESS dataset only\n",
    "ravdess_emotions=['neutral','calm','angry', 'happy','disgust','sad','fear','surprised']\n",
    "\n",
    "observed_emotions = ['sad','angry','happy','disgust','surprised','neutral','calm','fear']"
   ]
  },
  {
   "cell_type": "markdown",
   "metadata": {},
   "source": [
    "#### Feature extraction\n",
    "\n",
    "Using librosa package we can extract the MFCC features. This function loads the file give the file path and after resampling and computing MFCC features, returns the features. We have selected the no. of MFCCs as 40.\n",
    "\n",
    "https://librosa.org/librosa/generated/librosa.feature.mfcc.html"
   ]
  },
  {
   "cell_type": "code",
   "execution_count": 6,
   "metadata": {
    "colab": {},
    "colab_type": "code",
    "id": "h9a81pkWLCs1"
   },
   "outputs": [],
   "source": [
    "def extract_feature(file_name, mfcc):\n",
    "    X, sample_rate = librosa.load(os.path.join(file_name), res_type='kaiser_fast')\n",
    "    result = None\n",
    "    if mfcc:\n",
    "        mfccs=np.mean(librosa.feature.mfcc(y=X, sr=sample_rate, n_mfcc=40).T, axis=0)\n",
    "        result=np.hstack((result, mfccs))\n",
    "    return result"
   ]
  },
  {
   "cell_type": "markdown",
   "metadata": {},
   "source": [
    "#### Choosing a dataset\n",
    "\n",
    "Choose the dataset(s) you want to load using the following function"
   ]
  },
  {
   "cell_type": "code",
   "execution_count": 7,
   "metadata": {},
   "outputs": [],
   "source": [
    "def dataset_options():\n",
    "    # choose datasets\n",
    "    ravdess = True\n",
    "    tess = True\n",
    "    data = {'ravdess':ravdess, 'tess':tess}\n",
    "    print(data)\n",
    "    return data"
   ]
  },
  {
   "cell_type": "markdown",
   "metadata": {},
   "source": [
    "#### Load data\n",
    "\n",
    "Load data from the datasets required which is obtained by calling the function dataset__options(). Extract features from each file with the selected emotions in chosen datasets using the extract_feature() function defined."
   ]
  },
  {
   "cell_type": "code",
   "execution_count": 10,
   "metadata": {
    "colab": {},
    "colab_type": "code",
    "id": "RaV2hMcxLGZd"
   },
   "outputs": [],
   "source": [
    "from sklearn.model_selection import train_test_split\n",
    "\n",
    "def load_data(test_size=0.2): \n",
    "    X, y = [], []\n",
    "    mfcc = True\n",
    "    data = dataset_options()\n",
    "    paths = []\n",
    "\n",
    "    if data['ravdess']:\n",
    "        paths.append(\"../datasets/RAVDESS/Actor_*/*.wav\")\n",
    "    elif data['ravdess_speech']:\n",
    "        paths.append(\"../datasets/RAVDESS/audio_speech_actors_01-24/Actor_*/*.wav\")\n",
    "        \n",
    "    for path in paths:\n",
    "        for file in glob.glob(path):\n",
    "            file_name = os.path.basename(file)\n",
    "            emotion = emotions.get(file_name.split(\"-\")[2])\n",
    "            if emotion not in observed_emotions:\n",
    "                continue\n",
    "            feature = extract_feature(file, mfcc)\n",
    "            X.append(feature)\n",
    "            y.append(emotion)\n",
    "\n",
    "    if data['tess']:\n",
    "        for file in glob.glob(\"../datasets/TESS/*AF_*/*.wav\"):\n",
    "            file_name = os.path.basename(file)\n",
    "            emotion = file_name.split(\"_\")[2][:-4]\n",
    "            if emotion == 'ps':\n",
    "                emotion = 'surprised'\n",
    "            if emotion not in observed_emotions:\n",
    "                continue\n",
    "            feature = extract_feature(file, mfcc)\n",
    "            X.append(feature)\n",
    "            y.append(emotion)\n",
    "\n",
    "    return {'X': X, 'y': y}\n"
   ]
  },
  {
   "cell_type": "code",
   "execution_count": 11,
   "metadata": {
    "colab": {
     "base_uri": "https://localhost:8080/",
     "height": 34
    },
    "colab_type": "code",
    "id": "LVbx68UMLMAT",
    "outputId": "51a46f14-72ff-4825-83c5-0ce8673f5307"
   },
   "outputs": [
    {
     "name": "stdout",
     "output_type": "stream",
     "text": [
      "{'ravdess': True, 'tess': True}\n",
      "--- Data loaded. Loading time: 108.83538341522217 seconds ---\n"
     ]
    }
   ],
   "source": [
    "start_time = time.time()\n",
    "\n",
    "Trial_list = load_data(test_size = 0.3)\n",
    "\n",
    "print(\"--- Data loaded. Loading time: %s seconds ---\" % (time.time() - start_time))"
   ]
  },
  {
   "cell_type": "code",
   "execution_count": 12,
   "metadata": {
    "colab": {},
    "colab_type": "code",
    "id": "-WAO-j4iLPSn"
   },
   "outputs": [],
   "source": [
    "X = Trial_list['X']\n",
    "y = Trial_list['y']\n"
   ]
  },
  {
   "cell_type": "code",
   "execution_count": null,
   "metadata": {
    "colab": {
     "base_uri": "https://localhost:8080/",
     "height": 34
    },
    "colab_type": "code",
    "id": "Huw2Md1XLQZm",
    "outputId": "6a6cf90d-8449-4990-8bce-af37d4b50706"
   },
   "outputs": [
    {
     "name": "stdout",
     "output_type": "stream",
     "text": [
      "(4240, 41) (4240, 1)\n",
      "         0\n",
      "0  neutral\n",
      "1  neutral\n",
      "2  neutral\n"
     ]
    }
   ],
   "source": [
    "# converting x and y into dataframes\n",
    "X = pd.DataFrame(X)\n",
    "y = pd.DataFrame(y)\n",
    "# printing the shape of x and y\n",
    "print(X.shape, y.shape)\n",
    "\n"
   ]
  },
  {
   "cell_type": "code",
   "execution_count": 29,
   "metadata": {},
   "outputs": [],
   "source": [
    "# removing the none column of x\n",
    "X = X.drop([0], axis = 1)"
   ]
  },
  {
   "cell_type": "code",
   "execution_count": 30,
   "metadata": {},
   "outputs": [],
   "source": [
    "#renaming the label column to emotion\n",
    "y=y.rename(columns= {0: 'emotion'})"
   ]
  },
  {
   "cell_type": "code",
   "execution_count": 31,
   "metadata": {},
   "outputs": [],
   "source": [
    "#concatinating the attributes and label into a single dataframe\n",
    "data = pd.concat([X, y], axis =1)"
   ]
  },
  {
   "cell_type": "code",
   "execution_count": 32,
   "metadata": {},
   "outputs": [
    {
     "data": {
      "text/html": [
       "<div>\n",
       "<style scoped>\n",
       "    .dataframe tbody tr th:only-of-type {\n",
       "        vertical-align: middle;\n",
       "    }\n",
       "\n",
       "    .dataframe tbody tr th {\n",
       "        vertical-align: top;\n",
       "    }\n",
       "\n",
       "    .dataframe thead th {\n",
       "        text-align: right;\n",
       "    }\n",
       "</style>\n",
       "<table border=\"1\" class=\"dataframe\">\n",
       "  <thead>\n",
       "    <tr style=\"text-align: right;\">\n",
       "      <th></th>\n",
       "      <th>1</th>\n",
       "      <th>2</th>\n",
       "      <th>3</th>\n",
       "      <th>4</th>\n",
       "      <th>5</th>\n",
       "      <th>6</th>\n",
       "      <th>7</th>\n",
       "      <th>8</th>\n",
       "      <th>9</th>\n",
       "      <th>10</th>\n",
       "      <th>...</th>\n",
       "      <th>32</th>\n",
       "      <th>33</th>\n",
       "      <th>34</th>\n",
       "      <th>35</th>\n",
       "      <th>36</th>\n",
       "      <th>37</th>\n",
       "      <th>38</th>\n",
       "      <th>39</th>\n",
       "      <th>40</th>\n",
       "      <th>emotion</th>\n",
       "    </tr>\n",
       "  </thead>\n",
       "  <tbody>\n",
       "    <tr>\n",
       "      <th>0</th>\n",
       "      <td>-700.048035</td>\n",
       "      <td>58.141853</td>\n",
       "      <td>-2.558607</td>\n",
       "      <td>15.606677</td>\n",
       "      <td>4.635053</td>\n",
       "      <td>3.539141</td>\n",
       "      <td>-6.117565</td>\n",
       "      <td>-0.382448</td>\n",
       "      <td>-13.615901</td>\n",
       "      <td>-0.362572</td>\n",
       "      <td>...</td>\n",
       "      <td>-2.726629</td>\n",
       "      <td>-2.060206</td>\n",
       "      <td>-2.526320</td>\n",
       "      <td>-2.485008</td>\n",
       "      <td>-2.288239</td>\n",
       "      <td>-0.331254</td>\n",
       "      <td>-2.540937</td>\n",
       "      <td>-2.723592</td>\n",
       "      <td>-2.317618</td>\n",
       "      <td>neutral</td>\n",
       "    </tr>\n",
       "    <tr>\n",
       "      <th>1</th>\n",
       "      <td>-695.185120</td>\n",
       "      <td>58.720722</td>\n",
       "      <td>-4.875793</td>\n",
       "      <td>19.315145</td>\n",
       "      <td>5.611961</td>\n",
       "      <td>2.971206</td>\n",
       "      <td>-4.385363</td>\n",
       "      <td>-2.403248</td>\n",
       "      <td>-14.377567</td>\n",
       "      <td>1.257611</td>\n",
       "      <td>...</td>\n",
       "      <td>-3.063972</td>\n",
       "      <td>-1.711842</td>\n",
       "      <td>-2.929794</td>\n",
       "      <td>-2.519809</td>\n",
       "      <td>-1.328666</td>\n",
       "      <td>-0.747359</td>\n",
       "      <td>-3.644397</td>\n",
       "      <td>-2.642019</td>\n",
       "      <td>-2.881524</td>\n",
       "      <td>neutral</td>\n",
       "    </tr>\n",
       "    <tr>\n",
       "      <th>2</th>\n",
       "      <td>-693.690125</td>\n",
       "      <td>61.060158</td>\n",
       "      <td>-2.849076</td>\n",
       "      <td>16.587250</td>\n",
       "      <td>2.475743</td>\n",
       "      <td>3.980026</td>\n",
       "      <td>-4.803674</td>\n",
       "      <td>-2.774134</td>\n",
       "      <td>-12.816862</td>\n",
       "      <td>-1.313836</td>\n",
       "      <td>...</td>\n",
       "      <td>-2.540189</td>\n",
       "      <td>-1.947149</td>\n",
       "      <td>-2.386609</td>\n",
       "      <td>-2.251025</td>\n",
       "      <td>-2.516198</td>\n",
       "      <td>-0.548676</td>\n",
       "      <td>-3.300256</td>\n",
       "      <td>-2.928508</td>\n",
       "      <td>-2.833500</td>\n",
       "      <td>neutral</td>\n",
       "    </tr>\n",
       "    <tr>\n",
       "      <th>3</th>\n",
       "      <td>-687.243042</td>\n",
       "      <td>58.965412</td>\n",
       "      <td>-0.275306</td>\n",
       "      <td>16.264652</td>\n",
       "      <td>4.040917</td>\n",
       "      <td>5.848977</td>\n",
       "      <td>-4.356924</td>\n",
       "      <td>-4.302236</td>\n",
       "      <td>-12.883506</td>\n",
       "      <td>-0.871250</td>\n",
       "      <td>...</td>\n",
       "      <td>-2.549757</td>\n",
       "      <td>-2.452884</td>\n",
       "      <td>-3.237183</td>\n",
       "      <td>-2.736270</td>\n",
       "      <td>-1.983761</td>\n",
       "      <td>-0.403979</td>\n",
       "      <td>-3.016366</td>\n",
       "      <td>-2.839689</td>\n",
       "      <td>-3.957229</td>\n",
       "      <td>neutral</td>\n",
       "    </tr>\n",
       "    <tr>\n",
       "      <th>4</th>\n",
       "      <td>-729.579956</td>\n",
       "      <td>65.916191</td>\n",
       "      <td>-0.407426</td>\n",
       "      <td>18.537952</td>\n",
       "      <td>4.736640</td>\n",
       "      <td>5.225765</td>\n",
       "      <td>-6.456389</td>\n",
       "      <td>-0.714811</td>\n",
       "      <td>-12.648291</td>\n",
       "      <td>-2.119253</td>\n",
       "      <td>...</td>\n",
       "      <td>-1.738711</td>\n",
       "      <td>-1.325561</td>\n",
       "      <td>-3.047879</td>\n",
       "      <td>-1.114102</td>\n",
       "      <td>-1.098809</td>\n",
       "      <td>-1.092104</td>\n",
       "      <td>-2.434083</td>\n",
       "      <td>-3.135654</td>\n",
       "      <td>-3.438980</td>\n",
       "      <td>calm</td>\n",
       "    </tr>\n",
       "  </tbody>\n",
       "</table>\n",
       "<p>5 rows × 41 columns</p>\n",
       "</div>"
      ],
      "text/plain": [
       "            1          2         3          4         5         6         7  \\\n",
       "0 -700.048035  58.141853 -2.558607  15.606677  4.635053  3.539141 -6.117565   \n",
       "1 -695.185120  58.720722 -4.875793  19.315145  5.611961  2.971206 -4.385363   \n",
       "2 -693.690125  61.060158 -2.849076  16.587250  2.475743  3.980026 -4.803674   \n",
       "3 -687.243042  58.965412 -0.275306  16.264652  4.040917  5.848977 -4.356924   \n",
       "4 -729.579956  65.916191 -0.407426  18.537952  4.736640  5.225765 -6.456389   \n",
       "\n",
       "          8          9        10  ...        32        33        34        35  \\\n",
       "0 -0.382448 -13.615901 -0.362572  ... -2.726629 -2.060206 -2.526320 -2.485008   \n",
       "1 -2.403248 -14.377567  1.257611  ... -3.063972 -1.711842 -2.929794 -2.519809   \n",
       "2 -2.774134 -12.816862 -1.313836  ... -2.540189 -1.947149 -2.386609 -2.251025   \n",
       "3 -4.302236 -12.883506 -0.871250  ... -2.549757 -2.452884 -3.237183 -2.736270   \n",
       "4 -0.714811 -12.648291 -2.119253  ... -1.738711 -1.325561 -3.047879 -1.114102   \n",
       "\n",
       "         36        37        38        39        40  emotion  \n",
       "0 -2.288239 -0.331254 -2.540937 -2.723592 -2.317618  neutral  \n",
       "1 -1.328666 -0.747359 -3.644397 -2.642019 -2.881524  neutral  \n",
       "2 -2.516198 -0.548676 -3.300256 -2.928508 -2.833500  neutral  \n",
       "3 -1.983761 -0.403979 -3.016366 -2.839689 -3.957229  neutral  \n",
       "4 -1.098809 -1.092104 -2.434083 -3.135654 -3.438980     calm  \n",
       "\n",
       "[5 rows x 41 columns]"
      ]
     },
     "execution_count": 32,
     "metadata": {},
     "output_type": "execute_result"
    }
   ],
   "source": [
    "data.head()"
   ]
  },
  {
   "cell_type": "markdown",
   "metadata": {},
   "source": [
    "## Shuffling data"
   ]
  },
  {
   "cell_type": "code",
   "execution_count": 33,
   "metadata": {},
   "outputs": [
    {
     "data": {
      "text/html": [
       "<div>\n",
       "<style scoped>\n",
       "    .dataframe tbody tr th:only-of-type {\n",
       "        vertical-align: middle;\n",
       "    }\n",
       "\n",
       "    .dataframe tbody tr th {\n",
       "        vertical-align: top;\n",
       "    }\n",
       "\n",
       "    .dataframe thead th {\n",
       "        text-align: right;\n",
       "    }\n",
       "</style>\n",
       "<table border=\"1\" class=\"dataframe\">\n",
       "  <thead>\n",
       "    <tr style=\"text-align: right;\">\n",
       "      <th></th>\n",
       "      <th>1</th>\n",
       "      <th>2</th>\n",
       "      <th>3</th>\n",
       "      <th>4</th>\n",
       "      <th>5</th>\n",
       "      <th>6</th>\n",
       "      <th>7</th>\n",
       "      <th>8</th>\n",
       "      <th>9</th>\n",
       "      <th>10</th>\n",
       "      <th>...</th>\n",
       "      <th>32</th>\n",
       "      <th>33</th>\n",
       "      <th>34</th>\n",
       "      <th>35</th>\n",
       "      <th>36</th>\n",
       "      <th>37</th>\n",
       "      <th>38</th>\n",
       "      <th>39</th>\n",
       "      <th>40</th>\n",
       "      <th>emotion</th>\n",
       "    </tr>\n",
       "  </thead>\n",
       "  <tbody>\n",
       "    <tr>\n",
       "      <th>1592</th>\n",
       "      <td>-395.823669</td>\n",
       "      <td>20.780153</td>\n",
       "      <td>-15.159817</td>\n",
       "      <td>19.788443</td>\n",
       "      <td>-7.453940</td>\n",
       "      <td>7.962642</td>\n",
       "      <td>-23.476196</td>\n",
       "      <td>-3.406429</td>\n",
       "      <td>-18.738638</td>\n",
       "      <td>-6.491398</td>\n",
       "      <td>...</td>\n",
       "      <td>2.654102</td>\n",
       "      <td>8.136974</td>\n",
       "      <td>2.654742</td>\n",
       "      <td>2.878156</td>\n",
       "      <td>-2.402546</td>\n",
       "      <td>4.308104</td>\n",
       "      <td>5.262727</td>\n",
       "      <td>1.226714</td>\n",
       "      <td>-3.296388</td>\n",
       "      <td>angry</td>\n",
       "    </tr>\n",
       "    <tr>\n",
       "      <th>3286</th>\n",
       "      <td>-340.642456</td>\n",
       "      <td>29.599724</td>\n",
       "      <td>-16.993773</td>\n",
       "      <td>29.224260</td>\n",
       "      <td>-7.011916</td>\n",
       "      <td>-1.924617</td>\n",
       "      <td>-16.214605</td>\n",
       "      <td>-2.395910</td>\n",
       "      <td>-14.465276</td>\n",
       "      <td>8.265388</td>\n",
       "      <td>...</td>\n",
       "      <td>-3.249768</td>\n",
       "      <td>-7.267468</td>\n",
       "      <td>-5.961720</td>\n",
       "      <td>2.313182</td>\n",
       "      <td>2.533934</td>\n",
       "      <td>-2.365486</td>\n",
       "      <td>1.930589</td>\n",
       "      <td>5.542202</td>\n",
       "      <td>7.500679</td>\n",
       "      <td>fear</td>\n",
       "    </tr>\n",
       "    <tr>\n",
       "      <th>1665</th>\n",
       "      <td>-461.427429</td>\n",
       "      <td>89.804863</td>\n",
       "      <td>9.866475</td>\n",
       "      <td>3.401636</td>\n",
       "      <td>6.330132</td>\n",
       "      <td>7.988198</td>\n",
       "      <td>-17.291180</td>\n",
       "      <td>11.002507</td>\n",
       "      <td>-18.272661</td>\n",
       "      <td>8.218304</td>\n",
       "      <td>...</td>\n",
       "      <td>4.169380</td>\n",
       "      <td>2.105675</td>\n",
       "      <td>6.140010</td>\n",
       "      <td>8.093767</td>\n",
       "      <td>9.421249</td>\n",
       "      <td>9.666543</td>\n",
       "      <td>8.946437</td>\n",
       "      <td>11.192577</td>\n",
       "      <td>7.341140</td>\n",
       "      <td>disgust</td>\n",
       "    </tr>\n",
       "    <tr>\n",
       "      <th>263</th>\n",
       "      <td>-750.482605</td>\n",
       "      <td>82.664307</td>\n",
       "      <td>11.087944</td>\n",
       "      <td>28.126160</td>\n",
       "      <td>4.056847</td>\n",
       "      <td>8.989374</td>\n",
       "      <td>-2.771456</td>\n",
       "      <td>0.636028</td>\n",
       "      <td>-5.697156</td>\n",
       "      <td>12.327049</td>\n",
       "      <td>...</td>\n",
       "      <td>-1.108490</td>\n",
       "      <td>0.065122</td>\n",
       "      <td>0.040041</td>\n",
       "      <td>1.436290</td>\n",
       "      <td>0.063820</td>\n",
       "      <td>-0.999991</td>\n",
       "      <td>-1.370145</td>\n",
       "      <td>-2.041402</td>\n",
       "      <td>0.107543</td>\n",
       "      <td>sad</td>\n",
       "    </tr>\n",
       "    <tr>\n",
       "      <th>2871</th>\n",
       "      <td>-394.249420</td>\n",
       "      <td>28.459082</td>\n",
       "      <td>-6.430383</td>\n",
       "      <td>29.318998</td>\n",
       "      <td>-16.961685</td>\n",
       "      <td>5.261229</td>\n",
       "      <td>-5.731931</td>\n",
       "      <td>-10.414945</td>\n",
       "      <td>-8.974883</td>\n",
       "      <td>1.560879</td>\n",
       "      <td>...</td>\n",
       "      <td>10.103578</td>\n",
       "      <td>5.839454</td>\n",
       "      <td>8.201289</td>\n",
       "      <td>6.291386</td>\n",
       "      <td>7.951701</td>\n",
       "      <td>4.236954</td>\n",
       "      <td>1.574697</td>\n",
       "      <td>0.377521</td>\n",
       "      <td>1.418085</td>\n",
       "      <td>angry</td>\n",
       "    </tr>\n",
       "  </tbody>\n",
       "</table>\n",
       "<p>5 rows × 41 columns</p>\n",
       "</div>"
      ],
      "text/plain": [
       "               1          2          3          4          5         6  \\\n",
       "1592 -395.823669  20.780153 -15.159817  19.788443  -7.453940  7.962642   \n",
       "3286 -340.642456  29.599724 -16.993773  29.224260  -7.011916 -1.924617   \n",
       "1665 -461.427429  89.804863   9.866475   3.401636   6.330132  7.988198   \n",
       "263  -750.482605  82.664307  11.087944  28.126160   4.056847  8.989374   \n",
       "2871 -394.249420  28.459082  -6.430383  29.318998 -16.961685  5.261229   \n",
       "\n",
       "              7          8          9         10  ...         32        33  \\\n",
       "1592 -23.476196  -3.406429 -18.738638  -6.491398  ...   2.654102  8.136974   \n",
       "3286 -16.214605  -2.395910 -14.465276   8.265388  ...  -3.249768 -7.267468   \n",
       "1665 -17.291180  11.002507 -18.272661   8.218304  ...   4.169380  2.105675   \n",
       "263   -2.771456   0.636028  -5.697156  12.327049  ...  -1.108490  0.065122   \n",
       "2871  -5.731931 -10.414945  -8.974883   1.560879  ...  10.103578  5.839454   \n",
       "\n",
       "            34        35        36        37        38         39        40  \\\n",
       "1592  2.654742  2.878156 -2.402546  4.308104  5.262727   1.226714 -3.296388   \n",
       "3286 -5.961720  2.313182  2.533934 -2.365486  1.930589   5.542202  7.500679   \n",
       "1665  6.140010  8.093767  9.421249  9.666543  8.946437  11.192577  7.341140   \n",
       "263   0.040041  1.436290  0.063820 -0.999991 -1.370145  -2.041402  0.107543   \n",
       "2871  8.201289  6.291386  7.951701  4.236954  1.574697   0.377521  1.418085   \n",
       "\n",
       "      emotion  \n",
       "1592    angry  \n",
       "3286     fear  \n",
       "1665  disgust  \n",
       "263       sad  \n",
       "2871    angry  \n",
       "\n",
       "[5 rows x 41 columns]"
      ]
     },
     "execution_count": 33,
     "metadata": {},
     "output_type": "execute_result"
    }
   ],
   "source": [
    "#reindexing to shuffle the data at random\n",
    "data = data.reindex(np.random.permutation(data.index))\n",
    "\n",
    "data.head()"
   ]
  },
  {
   "cell_type": "code",
   "execution_count": 34,
   "metadata": {},
   "outputs": [],
   "source": [
    "# Storing shuffled ravdess and tess data to avoid loading again\n",
    "data.to_csv(\"RAVTESS_MFCC_Observed.csv\")"
   ]
  },
  {
   "cell_type": "code",
   "execution_count": null,
   "metadata": {},
   "outputs": [],
   "source": []
  },
  {
   "cell_type": "code",
   "execution_count": null,
   "metadata": {},
   "outputs": [],
   "source": []
  }
 ],
 "metadata": {
  "colab": {
   "collapsed_sections": [],
   "name": "SVM trial 2.ipynb",
   "provenance": []
  },
  "kernelspec": {
   "display_name": "Python 3.12 (TF)",
   "language": "python",
   "name": "py312"
  },
  "language_info": {
   "codemirror_mode": {
    "name": "ipython",
    "version": 3
   },
   "file_extension": ".py",
   "mimetype": "text/x-python",
   "name": "python",
   "nbconvert_exporter": "python",
   "pygments_lexer": "ipython3",
   "version": "3.12.1"
  }
 },
 "nbformat": 4,
 "nbformat_minor": 1
}
