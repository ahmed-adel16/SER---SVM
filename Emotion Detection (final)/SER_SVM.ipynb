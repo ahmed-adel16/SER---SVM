{
  "cells": [
    {
      "cell_type": "markdown",
      "metadata": {},
      "source": [
        "LINK of REPO:\n",
        "\n",
        "https://github.com/abhay8463/Speech-Emotion-Recognition-using-ML-and-DL"
      ]
    },
    {
      "cell_type": "code",
      "execution_count": 16,
      "metadata": {
        "colab": {},
        "colab_type": "code",
        "id": "VZWf5RDrO8Ta"
      },
      "outputs": [],
      "source": [
        "import pandas as pd\n",
        "import numpy as np"
      ]
    },
    {
      "cell_type": "code",
      "execution_count": 17,
      "metadata": {
        "colab": {
          "base_uri": "https://localhost:8080/",
          "height": 170
        },
        "colab_type": "code",
        "id": "5JBkWhfnQQDt",
        "outputId": "8d719b31-f9b8-4904-9d16-4c69e1fd9027"
      },
      "outputs": [
        {
          "name": "stdout",
          "output_type": "stream",
          "text": [
            "data loaded in 0.04753708839416504ms\n",
            "   Unnamed: 0           1          2          3          4          5  \\\n",
            "0        1592 -395.823669  20.780153 -15.159817  19.788443  -7.453940   \n",
            "1        3286 -340.642456  29.599724 -16.993773  29.224260  -7.011916   \n",
            "2        1665 -461.427429  89.804863   9.866475   3.401636   6.330132   \n",
            "3         263 -750.482605  82.664307  11.087944  28.126160   4.056847   \n",
            "4        2871 -394.249420  28.459082  -6.430383  29.318998 -16.961685   \n",
            "\n",
            "          6          7          8          9  ...         32        33  \\\n",
            "0  7.962642 -23.476196  -3.406429 -18.738638  ...   2.654102  8.136974   \n",
            "1 -1.924617 -16.214605  -2.395910 -14.465276  ...  -3.249768 -7.267468   \n",
            "2  7.988198 -17.291180  11.002507 -18.272661  ...   4.169380  2.105675   \n",
            "3  8.989374  -2.771456   0.636028  -5.697156  ...  -1.108490  0.065122   \n",
            "4  5.261229  -5.731931 -10.414945  -8.974883  ...  10.103578  5.839454   \n",
            "\n",
            "         34        35        36        37        38         39        40  \\\n",
            "0  2.654742  2.878156 -2.402546  4.308104  5.262727   1.226714 -3.296388   \n",
            "1 -5.961720  2.313182  2.533934 -2.365486  1.930589   5.542202  7.500679   \n",
            "2  6.140010  8.093767  9.421249  9.666543  8.946437  11.192577  7.341140   \n",
            "3  0.040041  1.436290  0.063820 -0.999991 -1.370145  -2.041402  0.107543   \n",
            "4  8.201289  6.291386  7.951701  4.236954  1.574697   0.377521  1.418085   \n",
            "\n",
            "   emotion  \n",
            "0    angry  \n",
            "1     fear  \n",
            "2  disgust  \n",
            "3      sad  \n",
            "4    angry  \n",
            "\n",
            "[5 rows x 42 columns]\n"
          ]
        }
      ],
      "source": [
        "import time\n",
        "\n",
        "starting_time = time.time()\n",
        "data = pd.read_csv('RAVTESS_MFCC_Observed.csv')\n",
        "print(\"data loaded in \" + str(time.time()-starting_time) + \"ms\")\n",
        "\n",
        "print(data.head())"
      ]
    },
    {
      "cell_type": "code",
      "execution_count": 18,
      "metadata": {
        "colab": {
          "base_uri": "https://localhost:8080/",
          "height": 34
        },
        "colab_type": "code",
        "id": "Gnn24ErtQXIM",
        "outputId": "710ff011-0a32-4050-e7d5-fb9fd820e34e"
      },
      "outputs": [
        {
          "data": {
            "text/plain": [
              "(4240, 42)"
            ]
          },
          "execution_count": 18,
          "metadata": {},
          "output_type": "execute_result"
        }
      ],
      "source": [
        "data.shape"
      ]
    },
    {
      "cell_type": "code",
      "execution_count": 19,
      "metadata": {
        "colab": {
          "base_uri": "https://localhost:8080/",
          "height": 102
        },
        "colab_type": "code",
        "id": "6UlGjAhtlhl2",
        "outputId": "5146eb7a-e950-416c-d28e-412f40cb7313"
      },
      "outputs": [
        {
          "data": {
            "text/plain": [
              "Index(['Unnamed: 0', '1', '2', '3', '4', '5', '6', '7', '8', '9', '10', '11',\n",
              "       '12', '13', '14', '15', '16', '17', '18', '19', '20', '21', '22', '23',\n",
              "       '24', '25', '26', '27', '28', '29', '30', '31', '32', '33', '34', '35',\n",
              "       '36', '37', '38', '39', '40', 'emotion'],\n",
              "      dtype='object')"
            ]
          },
          "execution_count": 19,
          "metadata": {},
          "output_type": "execute_result"
        }
      ],
      "source": [
        "#printing all columns\n",
        "data.columns"
      ]
    },
    {
      "cell_type": "code",
      "execution_count": 20,
      "metadata": {
        "colab": {},
        "colab_type": "code",
        "id": "7T9PgDj1luY1"
      },
      "outputs": [],
      "source": [
        "#dropping the column Unnamed: 0 to removed shuffled index\n",
        "data = data.drop('Unnamed: 0',axis=1)"
      ]
    },
    {
      "cell_type": "code",
      "execution_count": 21,
      "metadata": {
        "colab": {
          "base_uri": "https://localhost:8080/",
          "height": 102
        },
        "colab_type": "code",
        "id": "9XYzHT00l1vu",
        "outputId": "b0b2da96-31af-430b-cc33-6038c9348681"
      },
      "outputs": [
        {
          "data": {
            "text/plain": [
              "Index(['1', '2', '3', '4', '5', '6', '7', '8', '9', '10', '11', '12', '13',\n",
              "       '14', '15', '16', '17', '18', '19', '20', '21', '22', '23', '24', '25',\n",
              "       '26', '27', '28', '29', '30', '31', '32', '33', '34', '35', '36', '37',\n",
              "       '38', '39', '40', 'emotion'],\n",
              "      dtype='object')"
            ]
          },
          "execution_count": 21,
          "metadata": {},
          "output_type": "execute_result"
        }
      ],
      "source": [
        "data.columns"
      ]
    },
    {
      "cell_type": "code",
      "execution_count": 22,
      "metadata": {
        "colab": {},
        "colab_type": "code",
        "id": "dFz_djRCj8-7"
      },
      "outputs": [],
      "source": [
        "#separating features and target outputs\n",
        "X = data.drop('emotion', axis = 1).values\n",
        "y = data['emotion'].values"
      ]
    },
    {
      "cell_type": "markdown",
      "metadata": {
        "colab_type": "text",
        "id": "gmyFS7Ajj4PZ"
      },
      "source": [
        "## SVM\n",
        "\n",
        "Implementing SVM with Scikit-Learn"
      ]
    },
    {
      "cell_type": "code",
      "execution_count": 23,
      "metadata": {
        "colab": {},
        "colab_type": "code",
        "id": "pq5mN2XzkAj_"
      },
      "outputs": [],
      "source": [
        "import pandas as pd\n",
        "import numpy as np\n",
        "import matplotlib.pyplot as plt\n",
        "%matplotlib inline"
      ]
    },
    {
      "cell_type": "code",
      "execution_count": 24,
      "metadata": {
        "colab": {
          "base_uri": "https://localhost:8080/",
          "height": 34
        },
        "colab_type": "code",
        "id": "4j5u2-2YkEce",
        "outputId": "58c5c4ce-99a2-41f8-b9e5-01843cf363ac"
      },
      "outputs": [
        {
          "data": {
            "text/plain": [
              "((4240, 40), (4240,))"
            ]
          },
          "execution_count": 24,
          "metadata": {},
          "output_type": "execute_result"
        }
      ],
      "source": [
        "X.shape, y.shape"
      ]
    },
    {
      "cell_type": "code",
      "execution_count": 25,
      "metadata": {
        "colab": {
          "base_uri": "https://localhost:8080/",
          "height": 51
        },
        "colab_type": "code",
        "id": "rzaQWvXjkG6a",
        "outputId": "b2e2158e-d00b-4341-c2dd-b1fd2a8b2200"
      },
      "outputs": [
        {
          "data": {
            "text/plain": [
              "array(['angry', 'calm', 'disgust', 'fear', 'happy', 'neutral', 'sad',\n",
              "       'surprised'], dtype=object)"
            ]
          },
          "execution_count": 25,
          "metadata": {},
          "output_type": "execute_result"
        }
      ],
      "source": [
        "np.unique(y)"
      ]
    },
    {
      "cell_type": "markdown",
      "metadata": {
        "colab_type": "text",
        "id": "qFIOIBCmkOof"
      },
      "source": [
        "X variable contains attributes while y variable contains corresponding labels.\n",
        "\n",
        "Once the data is divided into attributes and labels, the final preprocessing step is to divide data into training and test sets. The model_selection library of the Scikit-Learn library contains the train_test_split method that allows us to divide data into training and test sets."
      ]
    },
    {
      "cell_type": "code",
      "execution_count": 26,
      "metadata": {
        "colab": {},
        "colab_type": "code",
        "id": "y-rWEbnjkI3z"
      },
      "outputs": [
        {
          "name": "stdout",
          "output_type": "stream",
          "text": [
            "(3392, 40) (848, 40) (3392,) (848,)\n",
            "0\n"
          ]
        }
      ],
      "source": [
        "from sklearn.model_selection import train_test_split\n",
        "\n",
        "X_train, X_test, y_train, y_test = train_test_split(X, y, test_size = 0.20)\n",
        "\n",
        "print(X_train.shape, X_test.shape, y_train.shape, y_test.shape)\n",
        "\n",
        "import numpy as np\n",
        "\n",
        "print(np.isnan(X_train).sum())  # Total number of NaNs\n"
      ]
    },
    {
      "cell_type": "markdown",
      "metadata": {
        "colab_type": "text",
        "id": "2jBVxf-ZkTSd"
      },
      "source": [
        "It is the time to train our SVM on the training data. Scikit-Learn contains the svm library, which contains built-in classes for different SVM algorithms. Since we are going to perform a classification task, we will use the support vector classifier class, which is written as SVC in the Scikit-Learn's svm library. We have set the kernel to linear."
      ]
    },
    {
      "cell_type": "code",
      "execution_count": 27,
      "metadata": {
        "colab": {},
        "colab_type": "code",
        "id": "viKFlbezkSll"
      },
      "outputs": [],
      "source": [
        "from sklearn.svm import SVC\n",
        "\n",
        "svclassifier = SVC(kernel = 'linear')"
      ]
    },
    {
      "cell_type": "markdown",
      "metadata": {
        "colab_type": "text",
        "id": "obFMZPWqIs3C"
      },
      "source": [
        "The fit method of SVC class is called to train the algorithm on the training data, which is passed as a parameter to the fit method. Execute the following code to train the algorithm:"
      ]
    },
    {
      "cell_type": "code",
      "execution_count": 28,
      "metadata": {
        "colab": {},
        "colab_type": "code",
        "id": "LZnkHUkZkX1A"
      },
      "outputs": [
        {
          "name": "stdout",
          "output_type": "stream",
          "text": [
            "Trained model in 47.14734697341919 ms \n"
          ]
        }
      ],
      "source": [
        "import time\n",
        "\n",
        "starting_time = time.time()\n",
        "svclassifier.fit(X_train, y_train)\n",
        "print(\"Trained model in %s ms \" % str(time.time() - starting_time))"
      ]
    },
    {
      "cell_type": "markdown",
      "metadata": {
        "colab_type": "text",
        "id": "KXvzYeXYkaMb"
      },
      "source": [
        "To make predictions, the predict method of the SVC class is used."
      ]
    },
    {
      "cell_type": "code",
      "execution_count": 29,
      "metadata": {
        "colab": {},
        "colab_type": "code",
        "id": "pUad4lXgkdZR"
      },
      "outputs": [],
      "source": [
        "y_pred = svclassifier.predict(X_test)"
      ]
    },
    {
      "cell_type": "markdown",
      "metadata": {
        "colab_type": "text",
        "id": "dRd8zm49kfwn"
      },
      "source": [
        "Confusion matrix, precision, recall, and F1 measures are the most commonly used metrics for classification tasks. Scikit-Learn's metrics library contains the classification_report and confusion_matrix methods, which can be readily used to find out the values for these important metrics.\n",
        "We have used the following code for finding these metrics:"
      ]
    },
    {
      "cell_type": "code",
      "execution_count": 30,
      "metadata": {
        "colab": {},
        "colab_type": "code",
        "id": "6qfbWKKzku_Z"
      },
      "outputs": [
        {
          "name": "stdout",
          "output_type": "stream",
          "text": [
            "              precision    recall  f1-score   support\n",
            "\n",
            "       angry       0.74      0.83      0.78       124\n",
            "        calm       0.51      0.49      0.50        55\n",
            "     disgust       0.68      0.77      0.72       117\n",
            "        fear       0.76      0.75      0.76       109\n",
            "       happy       0.74      0.72      0.73       113\n",
            "     neutral       0.79      0.75      0.77        87\n",
            "         sad       0.74      0.76      0.75       115\n",
            "   surprised       0.81      0.68      0.74       128\n",
            "\n",
            "    accuracy                           0.73       848\n",
            "   macro avg       0.72      0.72      0.72       848\n",
            "weighted avg       0.74      0.73      0.73       848\n",
            "\n",
            "----accuracy score 73.34905660377359 ----\n"
          ]
        },
        {
          "data": {
            "image/png": "[encoded data removed]",
            "text/plain": [
              "<Figure size 640x480 with 2 Axes>"
            ]
          },
          "metadata": {},
          "output_type": "display_data"
        }
      ],
      "source": [
        "from sklearn.metrics import classification_report, confusion_matrix,accuracy_score\n",
        "import seaborn as sn\n",
        "\n",
        "print(classification_report(y_test,y_pred))\n",
        "\n",
        "acc = float(accuracy_score(y_test,y_pred))*100\n",
        "print(\"----accuracy score %s ----\" % acc)\n",
        "\n",
        "cm = confusion_matrix(y_test,y_pred)\n",
        "df_cm = pd.DataFrame(cm)\n",
        "sn.heatmap(df_cm, annot=True, fmt='')\n",
        "plt.show()"
      ]
    },
    {
      "cell_type": "markdown",
      "metadata": {
        "colab_type": "text",
        "id": "XADzC5Cbkx6a"
      },
      "source": [
        "Now by calculating the training accuracy and comparing with testing accuracy, we can check for overfitting of data"
      ]
    },
    {
      "cell_type": "code",
      "execution_count": 31,
      "metadata": {
        "colab": {},
        "colab_type": "code",
        "id": "cPupL1MfjMVQ"
      },
      "outputs": [
        {
          "name": "stdout",
          "output_type": "stream",
          "text": [
            "----train accuracy score 83.31367924528303 ----\n",
            "----test accuracy score 73.34905660377359 ----\n"
          ]
        }
      ],
      "source": [
        "train_acc = float(svclassifier.score(X_train, y_train)*100)\n",
        "print(\"----train accuracy score %s ----\" % train_acc)\n",
        "\n",
        "test_acc = float(svclassifier.score(X_test, y_test)*100)\n",
        "print(\"----test accuracy score %s ----\" % test_acc)"
      ]
    },
    {
      "cell_type": "markdown",
      "metadata": {
        "colab_type": "text",
        "id": "0kWl4SbrtiUP"
      },
      "source": [
        "## Cross-Validation"
      ]
    },
    {
      "cell_type": "markdown",
      "metadata": {
        "colab_type": "text",
        "id": "SIsvihdMJDYO"
      },
      "source": [
        "5-fold cross validation of the dataset with the SVC classifier."
      ]
    },
    {
      "cell_type": "code",
      "execution_count": 32,
      "metadata": {
        "colab": {},
        "colab_type": "code",
        "id": "K8JwrWJ_k6qN"
      },
      "outputs": [
        {
          "name": "stdout",
          "output_type": "stream",
          "text": [
            "[0.75943396 0.7629717  0.75       0.76179245 0.76650943]\n"
          ]
        }
      ],
      "source": [
        "from sklearn.model_selection import cross_val_score\n",
        "\n",
        "# no. of folds cv = 5\n",
        "cv_results = cross_val_score(svclassifier, X, y, cv = 5)\n",
        "print(cv_results)"
      ]
    },
    {
      "cell_type": "markdown",
      "metadata": {
        "colab_type": "text",
        "id": "1x2ICDUKtows"
      },
      "source": [
        "## Scaling \n",
        "\n",
        "When performing the linear SVM classification, it is often helpful to normalize the training data, for example by subtracting the mean and dividing by the standard deviation, and afterwards scale the test data with the mean and standard deviation of training data."
      ]
    },
    {
      "cell_type": "code",
      "execution_count": 33,
      "metadata": {
        "colab": {
          "base_uri": "https://localhost:8080/",
          "height": 51
        },
        "colab_type": "code",
        "id": "OKhK1aW_trnZ",
        "outputId": "c1cf528c-cbb1-4760-d5c1-edf7651a12c0"
      },
      "outputs": [
        {
          "name": "stdout",
          "output_type": "stream",
          "text": [
            "Accuracy with Scaling: 0.8266509433962265\n",
            "Accuracy without Scaling: 0.7535377358490566\n"
          ]
        }
      ],
      "source": [
        "from sklearn.model_selection import train_test_split\n",
        "from sklearn.preprocessing import StandardScaler\n",
        "from sklearn.pipeline import Pipeline\n",
        "from sklearn.svm import SVC\n",
        "\n",
        "\n",
        "#splitting dataset into train/ test sets\n",
        "X_train, X_test, y_train, y_test = train_test_split(X, y, test_size = 0.20)\n",
        "\n",
        "# Setup the pipeline steps: steps\n",
        "steps = [('scaler', StandardScaler()),\n",
        "        ('SVM', SVC())]\n",
        "        \n",
        "# Create the pipeline: pipeline\n",
        "pipeline = Pipeline(steps)\n",
        "\n",
        "# Fit the pipeline to the training set: svc_scaled\n",
        "svc_scaled = pipeline.fit(X_train, y_train)\n",
        "\n",
        "# Instantiate and fit a classifier to the unscaled data\n",
        "svc_unscaled = SVC(kernel = 'linear').fit(X_train, y_train)\n",
        "\n",
        "# Compute and print metrics\n",
        "print('Accuracy with Scaling: {}'.format(svc_scaled.score(X_test, y_test)))\n",
        "print('Accuracy without Scaling: {}'.format(svc_unscaled.score(X_test, y_test)))\n"
      ]
    },
    {
      "cell_type": "markdown",
      "metadata": {
        "colab_type": "text",
        "id": "9bxO_NYuUJpN"
      },
      "source": [
        "### Generalization check\n",
        "Checking for overfitting or underfitting by comparing the training and testing scores of the model"
      ]
    },
    {
      "cell_type": "code",
      "execution_count": 34,
      "metadata": {
        "colab": {
          "base_uri": "https://localhost:8080/",
          "height": 51
        },
        "colab_type": "code",
        "id": "Ve1e2yVBivNT",
        "outputId": "46e085fa-7fe4-4a7b-da55-542f2d463c07"
      },
      "outputs": [
        {
          "name": "stdout",
          "output_type": "stream",
          "text": [
            "----train accuracy score 86.49764150943396 ----\n",
            "----test accuracy score 82.66509433962264 ----\n"
          ]
        }
      ],
      "source": [
        "train_acc = float(svc_scaled.score(X_train, y_train)*100)\n",
        "print(\"----train accuracy score %s ----\" % train_acc)\n",
        "\n",
        "test_acc = float(svc_scaled.score(X_test, y_test)*100)\n",
        "print(\"----test accuracy score %s ----\" % test_acc)"
      ]
    },
    {
      "cell_type": "code",
      "execution_count": 35,
      "metadata": {
        "colab": {},
        "colab_type": "code",
        "id": "JkMV4nVo2MBi"
      },
      "outputs": [],
      "source": [
        "scaled_predictions = svc_scaled.predict(X_test)"
      ]
    },
    {
      "cell_type": "markdown",
      "metadata": {
        "colab_type": "text",
        "id": "r_56D7h6WkOE"
      },
      "source": [
        "### Classification reports and Confusion Matrix"
      ]
    },
    {
      "cell_type": "code",
      "execution_count": 36,
      "metadata": {
        "colab": {
          "base_uri": "https://localhost:8080/",
          "height": 540
        },
        "colab_type": "code",
        "id": "oROt3FvXwMHK",
        "outputId": "58d34e5c-73fd-4f9e-fb52-9f7729523c5e"
      },
      "outputs": [
        {
          "name": "stdout",
          "output_type": "stream",
          "text": [
            "              precision    recall  f1-score   support\n",
            "\n",
            "       angry       0.93      0.87      0.90       118\n",
            "        calm       0.41      0.74      0.53        39\n",
            "     disgust       0.77      0.84      0.81       114\n",
            "        fear       0.88      0.83      0.86       127\n",
            "       happy       0.92      0.82      0.87       133\n",
            "     neutral       1.00      0.83      0.90       103\n",
            "         sad       0.77      0.75      0.76       107\n",
            "   surprised       0.81      0.87      0.84       107\n",
            "\n",
            "    accuracy                           0.83       848\n",
            "   macro avg       0.81      0.82      0.81       848\n",
            "weighted avg       0.85      0.83      0.83       848\n",
            "\n",
            "----accuracy score 82.66509433962264 ----\n"
          ]
        },
        {
          "data": {
            "image/png": "[encoded data removed]",
            "text/plain": [
              "<Figure size 640x480 with 2 Axes>"
            ]
          },
          "metadata": {},
          "output_type": "display_data"
        }
      ],
      "source": [
        "from sklearn.metrics import classification_report, confusion_matrix,accuracy_score\n",
        "import seaborn as sn\n",
        "\n",
        "print(classification_report(y_test,scaled_predictions))\n",
        "\n",
        "acc = float(accuracy_score(y_test,scaled_predictions))*100\n",
        "print(\"----accuracy score %s ----\" % acc)\n",
        "\n",
        "cm = confusion_matrix(y_test,scaled_predictions)\n",
        "df_cm = pd.DataFrame(cm)\n",
        "sn.heatmap(df_cm, annot=True, fmt='')\n",
        "plt.show()"
      ]
    },
    {
      "cell_type": "markdown",
      "metadata": {
        "colab_type": "text",
        "id": "k7ay4Mx3WvIN"
      },
      "source": [
        "#### Cross Validation"
      ]
    },
    {
      "cell_type": "code",
      "execution_count": 37,
      "metadata": {
        "colab": {
          "base_uri": "https://localhost:8080/",
          "height": 34
        },
        "colab_type": "code",
        "id": "Yqo9QIL82ez-",
        "outputId": "ba6f2c4f-432d-42fe-f758-21e93bf9cb60"
      },
      "outputs": [
        {
          "name": "stdout",
          "output_type": "stream",
          "text": [
            "[0.81132075 0.8490566  0.81839623 0.83490566 0.82783019]\n"
          ]
        }
      ],
      "source": [
        "from sklearn.model_selection import cross_val_score\n",
        "\n",
        "# no. of folds cv = 5\n",
        "cv_results = cross_val_score(svc_scaled, X, y, cv = 5)\n",
        "print(cv_results)"
      ]
    },
    {
      "cell_type": "code",
      "execution_count": 39,
      "metadata": {
        "colab": {},
        "colab_type": "code",
        "id": "C7Qsgs0H8Ijx"
      },
      "outputs": [
        {
          "data": {
            "text/plain": [
              "['svc_scaled.pkl']"
            ]
          },
          "execution_count": 39,
          "metadata": {},
          "output_type": "execute_result"
        }
      ],
      "source": [
        "import joblib\n",
        "\n",
        "joblib.dump(svc_scaled, 'svc_scaled.pkl')"
      ]
    }
  ],
  "metadata": {
    "colab": {
      "collapsed_sections": [
        "gmyFS7Ajj4PZ",
        "0kWl4SbrtiUP"
      ],
      "name": "SER-SVM.ipynb",
      "provenance": []
    },
    "kernelspec": {
      "display_name": "Python 3.12 (TF)",
      "language": "python",
      "name": "py312"
    },
    "language_info": {
      "codemirror_mode": {
        "name": "ipython",
        "version": 3
      },
      "file_extension": ".py",
      "mimetype": "text/x-python",
      "name": "python",
      "nbconvert_exporter": "python",
      "pygments_lexer": "ipython3",
      "version": "3.12.1"
    }
  },
  "nbformat": 4,
  "nbformat_minor": 0
}
